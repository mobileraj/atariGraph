{
 "metadata": {
  "name": ""
 },
 "nbformat": 3,
 "nbformat_minor": 0,
 "worksheets": [
  {
   "cells": [
    {
     "cell_type": "code",
     "collapsed": false,
     "input": [
      "import cPickle as pik\n",
      "import time\n",
      "import dateutil.parser as p\n",
      "\n",
      "def parseTime(t):\n",
      "    return time.strptime(t,\"%d-%b-%Y %H:%M\")\n",
      "\n",
      "parseTime(\"6-AUG-1983 13:40\")"
     ],
     "language": "python",
     "metadata": {},
     "outputs": [
      {
       "metadata": {},
       "output_type": "pyout",
       "prompt_number": 1,
       "text": [
        "time.struct_time(tm_year=1983, tm_mon=8, tm_mday=6, tm_hour=13, tm_min=40, tm_sec=0, tm_wday=5, tm_yday=218, tm_isdst=-1)"
       ]
      }
     ],
     "prompt_number": 1
    },
    {
     "cell_type": "code",
     "collapsed": false,
     "input": [
      "st=\"From:   MCCARTHY        6-AUG-1983 13:40 \"\n",
      "st.strip().split(\" \")"
     ],
     "language": "python",
     "metadata": {},
     "outputs": [
      {
       "metadata": {},
       "output_type": "pyout",
       "prompt_number": 2,
       "text": [
        "['From:',\n",
        " '',\n",
        " '',\n",
        " 'MCCARTHY',\n",
        " '',\n",
        " '',\n",
        " '',\n",
        " '',\n",
        " '',\n",
        " '',\n",
        " '',\n",
        " '6-AUG-1983',\n",
        " '13:40']"
       ]
      }
     ],
     "prompt_number": 2
    },
    {
     "cell_type": "code",
     "collapsed": false,
     "input": [
      "st=\"From:   ERNIE::SHEPPERD       21-JUL-1983 20:02  \"\n",
      "a=st.strip().split(\" \")\n",
      "a[-2]+\" \"+a[-1]"
     ],
     "language": "python",
     "metadata": {},
     "outputs": [
      {
       "metadata": {},
       "output_type": "pyout",
       "prompt_number": 3,
       "text": [
        "'21-JUL-1983 20:02'"
       ]
      }
     ],
     "prompt_number": 3
    },
    {
     "cell_type": "code",
     "collapsed": false,
     "input": [
      "def parsestate(line,state):\n",
      "    a=line.strip().split(\"\\t\")\n",
      "    curstate=state\n",
      "    val=\"\"\n",
      "    ti=\"\"\n",
      "    try:\n",
      "        if a[0] == \"From:\" and state==\"reset\":\n",
      "            curstate=\"from\"\n",
      "            b=a[1].strip(' \\t').split(\" \")\n",
      "            val=b[0]\n",
      "            ti=p.parse(b[-2]+\" \"+b[-1])\n",
      "        elif a[0] == \"To:\" and len(a)==2 and state==\"from\":\n",
      "            curstate=\"to\"\n",
      "            val=a[-1].strip(' \\t').split(\",\")\n",
      "        elif a[0]== \"___________________________________________________________________________\" and (state==\"to\" or state==\"\"):\n",
      "            curstate=\"reset\"\n",
      "        \n",
      "        return ((curstate,val,ti))\n",
      "    except: \n",
      "        print a\n",
      "        print curstate,state\n",
      "        \n",
      "parsestate(\"\",\"To:     @DB16K \")"
     ],
     "language": "python",
     "metadata": {},
     "outputs": [
      {
       "metadata": {},
       "output_type": "pyout",
       "prompt_number": 31,
       "text": [
        "('To:     @DB16K ', '', '')"
       ]
      }
     ],
     "prompt_number": 31
    },
    {
     "cell_type": "code",
     "collapsed": false,
     "input": [
      "data=[]\n",
      "def process(foo):\n",
      "    tup=[None]*3\n",
      "    src=None\n",
      "    ti = None\n",
      "    state=\"\"\n",
      "    for l in open(foo,'r'):\n",
      "        sta,node,val = parsestate(l,state)\n",
      "        if sta == \"from\":\n",
      "            src=node\n",
      "            ti=val\n",
      "            state=\"from\"\n",
      "        elif sta == \"reset\":\n",
      "            state = \"reset\"\n",
      "            tup=[None]*3\n",
      "        elif sta == \"to\":\n",
      "            state=\"to\"\n",
      "            for x in node:\n",
      "                tup[0]=src\n",
      "                tup[2]=ti\n",
      "                tup[1] = x\n",
      "                data.append(tup)\n",
      "                tup=[None]*3\n",
      "            tup=[None]*3\n",
      "\n",
      "\n",
      "fi =[\"/home/raj/projects/atari/data/Vax\"+str(k)+\".txt\" for k in range(83,93,1)]\n",
      "\n",
      "for foo in fi:\n",
      "    print \"on \"+foo\n",
      "    process(foo)\n",
      "len(data)"
     ],
     "language": "python",
     "metadata": {},
     "outputs": [
      {
       "output_type": "stream",
       "stream": "stdout",
       "text": [
        "on /home/raj/projects/atari/data/Vax83.txt\n",
        "on /home/raj/projects/atari/data/Vax84.txt\n",
        "on /home/raj/projects/atari/data/Vax85.txt\n",
        "on /home/raj/projects/atari/data/Vax86.txt"
       ]
      },
      {
       "output_type": "stream",
       "stream": "stdout",
       "text": [
        "\n",
        "on /home/raj/projects/atari/data/Vax87.txt\n",
        "on /home/raj/projects/atari/data/Vax88.txt"
       ]
      },
      {
       "output_type": "stream",
       "stream": "stdout",
       "text": [
        "\n",
        "on /home/raj/projects/atari/data/Vax89.txt\n",
        "on /home/raj/projects/atari/data/Vax90.txt"
       ]
      },
      {
       "output_type": "stream",
       "stream": "stdout",
       "text": [
        "\n",
        "on /home/raj/projects/atari/data/Vax91.txt"
       ]
      },
      {
       "output_type": "stream",
       "stream": "stdout",
       "text": [
        "\n",
        "on /home/raj/projects/atari/data/Vax92.txt"
       ]
      },
      {
       "output_type": "stream",
       "stream": "stdout",
       "text": [
        "\n"
       ]
      },
      {
       "metadata": {},
       "output_type": "pyout",
       "prompt_number": 34,
       "text": [
        "5887"
       ]
      }
     ],
     "prompt_number": 34
    },
    {
     "cell_type": "code",
     "collapsed": false,
     "input": [
      "data[5262][2].strftime(\"%Y-%m-%d\")"
     ],
     "language": "python",
     "metadata": {},
     "outputs": [
      {
       "metadata": {},
       "output_type": "pyout",
       "prompt_number": 39,
       "text": [
        "'1992-03-16'"
       ]
      }
     ],
     "prompt_number": 39
    },
    {
     "cell_type": "code",
     "collapsed": false,
     "input": [
      "len(data)"
     ],
     "language": "python",
     "metadata": {},
     "outputs": [
      {
       "metadata": {},
       "output_type": "pyout",
       "prompt_number": 37,
       "text": [
        "5887"
       ]
      }
     ],
     "prompt_number": 37
    },
    {
     "cell_type": "code",
     "collapsed": false,
     "input": [
      "pik.dump(data,open(\"/home/raj/projects/atari/data/mailElist.pik\",\"wb\"))"
     ],
     "language": "python",
     "metadata": {},
     "outputs": [],
     "prompt_number": 38
    },
    {
     "cell_type": "code",
     "collapsed": false,
     "input": [],
     "language": "python",
     "metadata": {},
     "outputs": []
    }
   ],
   "metadata": {}
  }
 ]
}