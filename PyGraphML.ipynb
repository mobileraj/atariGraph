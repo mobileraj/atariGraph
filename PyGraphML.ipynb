{
 "metadata": {
  "name": ""
 },
 "nbformat": 3,
 "nbformat_minor": 0,
 "worksheets": [
  {
   "cells": [
    {
     "cell_type": "code",
     "collapsed": false,
     "input": [
      "import networkx as nx\n",
      "import cPickle as pik\n",
      "import datetime\n",
      "\n",
      "data = pik.load(open(\"/home/raj/projects/atari/data/mailElist.pik\",\"rb\"))\n",
      "tmp=[x[0:2] for x in data]\n",
      "nodes=[val for sublist in tmp for val in sublist]\n",
      "print len(nodes)\n",
      "nodes=list(set(nodes))\n",
      "len(nodes)"
     ],
     "language": "python",
     "metadata": {},
     "outputs": [
      {
       "output_type": "stream",
       "stream": "stdout",
       "text": [
        "11774\n"
       ]
      },
      {
       "metadata": {},
       "output_type": "pyout",
       "prompt_number": 2,
       "text": [
        "813"
       ]
      }
     ],
     "prompt_number": 2
    },
    {
     "cell_type": "code",
     "collapsed": false,
     "input": [
      "type(data[160][2])"
     ],
     "language": "python",
     "metadata": {},
     "outputs": [
      {
       "metadata": {},
       "output_type": "pyout",
       "prompt_number": 3,
       "text": [
        "datetime.datetime"
       ]
      }
     ],
     "prompt_number": 3
    },
    {
     "cell_type": "code",
     "collapsed": false,
     "input": [
      "g = nx.DiGraph()\n",
      "for x in nodes:\n",
      "    g.add_node(nodes.index(x),name=x)\n",
      "    \n",
      "for x in data:\n",
      "    if type(x[2])==datetime.datetime:\n",
      "        s = nodes.index(x[0])\n",
      "        t = nodes.index(x[1])\n",
      "        e = g.add_edge(int(s), int(t),sent=x[2].strftime(\"%Y-%m-%d\"))\n"
     ],
     "language": "python",
     "metadata": {},
     "outputs": [],
     "prompt_number": 4
    },
    {
     "cell_type": "code",
     "collapsed": false,
     "input": [
      "import matplotlib.pyplot as plt\n",
      "nx.draw(g)\n",
      "plt.show()"
     ],
     "language": "python",
     "metadata": {},
     "outputs": [],
     "prompt_number": 5
    },
    {
     "cell_type": "code",
     "collapsed": false,
     "input": [
      "nx.write_graphml(g, \"vaxemail.graphml\")"
     ],
     "language": "python",
     "metadata": {},
     "outputs": [],
     "prompt_number": 77
    },
    {
     "cell_type": "code",
     "collapsed": false,
     "input": [],
     "language": "python",
     "metadata": {},
     "outputs": []
    }
   ],
   "metadata": {}
  }
 ]
}