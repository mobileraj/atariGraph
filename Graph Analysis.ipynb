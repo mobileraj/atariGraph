{
 "metadata": {
  "name": ""
 },
 "nbformat": 3,
 "nbformat_minor": 0,
 "worksheets": [
  {
   "cells": [
    {
     "cell_type": "code",
     "collapsed": false,
     "input": [
      "from graph_tool.all import *\n",
      "from pylab import *\n",
      "g=load_graph(\"vaxemail.graphml\")\n",
      "graph_draw(g)"
     ],
     "language": "python",
     "metadata": {},
     "outputs": [
      {
       "metadata": {},
       "output_type": "pyout",
       "prompt_number": 2,
       "text": [
        "(<PropertyMap object with key type 'Vertex' and value type 'vector<double>', for Graph 0x7f9e3cd63490, at 0x7f9e3c1b5190>,\n",
        " <PropertyMap object with key type 'Vertex' and value type 'bool', for Graph 0x7f9e3cd63490, at 0x7f9e3cd57390>)"
       ]
      }
     ],
     "prompt_number": 2
    },
    {
     "cell_type": "code",
     "collapsed": false,
     "input": [
      "pos = sfdp_layout(g)\n",
      "graph_draw(g,vertex_color=[1,1,1,0],edge_pen_width=1.2,vertex_fill_color='gray', output=\"vaxemail.png\")"
     ],
     "language": "python",
     "metadata": {},
     "outputs": [
      {
       "metadata": {},
       "output_type": "pyout",
       "prompt_number": 18,
       "text": [
        "<PropertyMap object with key type 'Vertex' and value type 'vector<double>', for Graph 0x7f1cb0307750, at 0x7f1c6aa8a2d0>"
       ]
      }
     ],
     "prompt_number": 18
    },
    {
     "cell_type": "code",
     "collapsed": false,
     "input": [
      "in_hist = vertex_hist(g,\"in\")"
     ],
     "language": "python",
     "metadata": {},
     "outputs": [],
     "prompt_number": 3
    },
    {
     "cell_type": "code",
     "collapsed": false,
     "input": [
      "import networkx as nx\n",
      "import matplotlib.pyplot as plt\n",
      "g=nx.read_graphml(\"vaxemail.graphml\")\n",
      "degin = sorted(g.in_degree().values(),reverse=True)\n",
      "degout = sorted(g.out_degree().values(),reverse=True)\n",
      "plt.loglog(degin,'b-',marker='o',label=\"In\")\n",
      "plt.loglog(degout,'r-',marker='o',label=\"Out\")\n",
      "plt.legend(bbox_to_anchor=(0., 1.02, 1., .102), ncol=2,mode=\"expand\",loc=3, borderaxespad=0.)\n",
      "plt.title(\"Degree rank plot\")\n",
      "plt.ylabel(\"degree\")\n",
      "plt.xlabel(\"rank\")\n",
      "plt.savefig(\"degree.png\")"
     ],
     "language": "python",
     "metadata": {},
     "outputs": [],
     "prompt_number": 1
    },
    {
     "cell_type": "code",
     "collapsed": false,
     "input": [
      "import operator\n",
      "stats=nx.pagerank(g)\n",
      "s= sorted(stats.iteritems(), key=operator.itemgetter(1),reverse=True)\n",
      "[nx.get_node_attributes(g,'name')[x[0]] for x in s[0:10]]"
     ],
     "language": "python",
     "metadata": {},
     "outputs": [
      {
       "metadata": {},
       "output_type": "pyout",
       "prompt_number": 23,
       "text": [
        "[u'@SYS$MAIL:JUNK',\n",
        " u'MARGOLIN',\n",
        " u'@SYS$MAIL:ENGINEER',\n",
        " u'@SYS$MAIL:EVERYBODY',\n",
        " u'KIM::MARGOLIN',\n",
        " u' MARGOLIN',\n",
        " u'FARRAND',\n",
        " u'SKIP',\n",
        " u'STUBBEN',\n",
        " u'@SYS$MAIL:EE']"
       ]
      }
     ],
     "prompt_number": 23
    },
    {
     "cell_type": "code",
     "collapsed": false,
     "input": [],
     "language": "python",
     "metadata": {},
     "outputs": []
    }
   ],
   "metadata": {}
  }
 ]
}